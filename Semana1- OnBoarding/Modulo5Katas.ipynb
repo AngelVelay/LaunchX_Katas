{
 "cells": [
  {
   "cell_type": "markdown",
   "metadata": {},
   "source": [
    "## Ejercicio1 - Utilizar operadores aritméticos\n"
   ]
  },
  {
   "cell_type": "markdown",
   "metadata": {},
   "source": [
    "Exploremos cómo podemos crear un programa que pueda calcular la distancia entre dos planetas. Comenzaremos usando dos distancias de planetas: Tierra (149.597.870 km) y Júpiter (778.547.200 km).\n"
   ]
  },
  {
   "cell_type": "code",
   "execution_count": 7,
   "metadata": {},
   "outputs": [],
   "source": [
    "tierra = 149597870\n",
    "jupiter = 778547200\n"
   ]
  },
  {
   "cell_type": "markdown",
   "metadata": {},
   "source": [
    "Con los valores obtenidos, es el momento de añadir el código para realizar la operación. Restarás el primer planeta del segundo para determinar la distancia en kilómetros. A continuación, puedes convertir la distancia del kilómetro en millas multiplicándola por 1.609344."
   ]
  },
  {
   "cell_type": "code",
   "execution_count": 8,
   "metadata": {},
   "outputs": [
    {
     "name": "stdout",
     "output_type": "stream",
     "text": [
      "La distancia en Jupiter y la tierra es de 628949330 km y en millas es de 1012195830.53952 millas\n"
     ]
    }
   ],
   "source": [
    "distancia = jupiter-tierra\n",
    "distancia_millas = distancia*1.609344\n",
    "print(f'La distancia en Jupiter y la tierra es de {distancia} km y en millas es de {distancia_millas} millas' )\n"
   ]
  },
  {
   "cell_type": "markdown",
   "metadata": {},
   "source": [
    "## Ejercicio 2: convierte cadenas en números y usa valores absolutos\n"
   ]
  },
  {
   "cell_type": "code",
   "execution_count": 9,
   "metadata": {},
   "outputs": [],
   "source": [
    "# Almacenar las entradas del usuario\n",
    "\n",
    "nombre = input (str('Cual es tu nombre?'))\n",
    "primer_planeta = input(\n",
    "    'Introduzca la distancia del sol para el primer planeta en KM')\n",
    "segundo_planeta = input(\n",
    "    'Introduzca la distancia desde el sol para el segundo planeta en KM')\n",
    "\n",
    "\n"
   ]
  },
  {
   "cell_type": "code",
   "execution_count": 10,
   "metadata": {},
   "outputs": [],
   "source": [
    "\n",
    "primer_planeta = int(primer_planeta)\n",
    "segundo_planeta = int(segundo_planeta)\n"
   ]
  },
  {
   "cell_type": "code",
   "execution_count": 11,
   "metadata": {},
   "outputs": [
    {
     "name": "stdout",
     "output_type": "stream",
     "text": [
      "Hola Angel Velay\n",
      "La distancia absoluta es de 4106750 km y en millas es de 6609173.472 millas\n"
     ]
    }
   ],
   "source": [
    "distancia = abs(primer_planeta - segundo_planeta)\n",
    "distancia_millas = distancia*1.609344\n",
    "print(f'Hola {nombre}')\n",
    "print(f'La distancia absoluta es de {distancia} km y en millas es de {distancia_millas} millas')\n"
   ]
  }
 ],
 "metadata": {
  "language_info": {
   "name": "python"
  },
  "orig_nbformat": 4
 },
 "nbformat": 4,
 "nbformat_minor": 2
}
