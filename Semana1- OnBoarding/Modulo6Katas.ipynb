{
 "cells": [
  {
   "cell_type": "markdown",
   "metadata": {},
   "source": [
    "## Ejercicio1: Crear y usar listas de Python\n"
   ]
  },
  {
   "cell_type": "markdown",
   "metadata": {},
   "source": [
    "Ejercicio: Usar listas para almacenar nombres de planetas\n"
   ]
  },
  {
   "cell_type": "code",
   "execution_count": 2,
   "metadata": {},
   "outputs": [
    {
     "name": "stdout",
     "output_type": "stream",
     "text": [
      "El numero de planetas en 8\n"
     ]
    }
   ],
   "source": [
    "# Creamos la lista planets y la mostramos\n",
    "planetas = ['mercurio','venus','tierra','marte','jupiter','urano','neptuno','saturno']\n",
    "print (f'El numero de planetas en {len(planetas)}')"
   ]
  },
  {
   "cell_type": "markdown",
   "metadata": {},
   "source": [
    "Agrega a Plutón a la lista que creaste. Luego muestra tanto el número de planetas como el último planeta de la lista.\n",
    "\n"
   ]
  },
  {
   "cell_type": "code",
   "execution_count": 6,
   "metadata": {},
   "outputs": [
    {
     "name": "stdout",
     "output_type": "stream",
     "text": [
      "El ultimo planeta es pluton\n"
     ]
    }
   ],
   "source": [
    "planetas.append('pluton')\n",
    "print(f'El ultimo planeta es {planetas[-1]}')"
   ]
  },
  {
   "cell_type": "markdown",
   "metadata": {},
   "source": [
    "## Ejercicio 2: Trabajando con datos de una lista"
   ]
  },
  {
   "cell_type": "code",
   "execution_count": 20,
   "metadata": {},
   "outputs": [],
   "source": [
    "\"\"\"Usar slices para recuperar partes de una lista\n",
    "Es posible que debas trabajar con diferentes secciones de una lista. En nuestro ejemplo, queremos mostrar planetas más cerca y más lejos del sol de un planeta que el usuario ingresa por teclado.\n",
    "\n",
    "Comienza agregando el código para crear una lista con los planetas.\"\"\"\n",
    "\n",
    "# Lista de planetas\n",
    "planets = ['Mercury', 'Venus', 'Earth', 'Mars', 'Jupiter', 'Saturn', 'Neptune']\n"
   ]
  },
  {
   "cell_type": "code",
   "execution_count": 28,
   "metadata": {},
   "outputs": [],
   "source": [
    "# Solicitamos el nombre de un planeta *Pista:  input()*\n",
    "\n",
    "planet = input(str('Introduce el nombre de algun planeta '))\n"
   ]
  },
  {
   "cell_type": "code",
   "execution_count": 29,
   "metadata": {},
   "outputs": [
    {
     "name": "stdout",
     "output_type": "stream",
     "text": [
      "1\n",
      "El planeta Venus SI se encuentra en la lista\n"
     ]
    }
   ],
   "source": [
    "# Busca el planeta en la lista\n",
    "\n",
    "search = planets.index(planet)\n",
    "print(search)\n",
    "\n",
    "if search == True:\n",
    "    print(f'El planeta {planet} SI se encuentra en la lista')\n",
    "else:\n",
    "    print(f'El planeta {planet} NO se encuentra en la lista')\n",
    "\n",
    "    "
   ]
  },
  {
   "cell_type": "code",
   "execution_count": 36,
   "metadata": {},
   "outputs": [
    {
     "name": "stdout",
     "output_type": "stream",
     "text": [
      "El planeta mas cercanos al sol es: ['Mercury']\n",
      "El planeta mas lejano al Sol es ['Earth', 'Mars', 'Jupiter', 'Saturn', 'Neptune']\n"
     ]
    }
   ],
   "source": [
    "#Mostrar planetas más cercanos al sol que el que el usuario ingresó\n",
    "#Con el índice determinado, ahora puedes agregar el código para mostrar los planetas más cercanos al sol.\n",
    "\n",
    "# Muestra los planetas más cercanos al sol\n",
    "\n",
    "cercano_sol = (planets[0:search])\n",
    "print(f'El planeta mas cercanos al sol es: {cercano_sol}')\n",
    "\n",
    "\n",
    "# Muestra los planetas más lejanos al sol\n",
    "lejan_sol = (planets[search+1:])\n",
    "print(f'El planeta mas lejano al Sol es {lejan_sol}')\n",
    "\n"
   ]
  }
 ],
 "metadata": {
  "interpreter": {
   "hash": "acf6e65c095f0a177ad1ca8afd350e645503ed109c972d889afe3525c83f10a9"
  },
  "kernelspec": {
   "display_name": "Python 3.9.2 64-bit",
   "language": "python",
   "name": "python3"
  },
  "language_info": {
   "codemirror_mode": {
    "name": "ipython",
    "version": 3
   },
   "file_extension": ".py",
   "mimetype": "text/x-python",
   "name": "python",
   "nbconvert_exporter": "python",
   "pygments_lexer": "ipython3",
   "version": "3.9.2"
  },
  "orig_nbformat": 4
 },
 "nbformat": 4,
 "nbformat_minor": 2
}
